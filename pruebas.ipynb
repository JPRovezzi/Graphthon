{
 "cells": [
  {
   "cell_type": "code",
   "execution_count": 1,
   "id": "90cdea40",
   "metadata": {},
   "outputs": [],
   "source": [
    "import numpy as np\n",
    "import matplotlib.pyplot as plt\n",
    "from data import tiritation, time, time_error\n",
    "from classes import *"
   ]
  },
  {
   "cell_type": "code",
   "execution_count": 2,
   "id": "b9f23b51",
   "metadata": {},
   "outputs": [],
   "source": [
    "alcohol= Butanol(mass=40.27*0.994)  # Masa de Butanol en gramos\n",
    "acid = OctanoicAcid(mass=79.46*0.98)  # Masa de Ácido octanoico en gramos\n",
    "cat = PTSA·H2O(mass=6.51)  # Masa de PTSA·H2O en gramos (no se usa en este cálculo)"
   ]
  },
  {
   "cell_type": "code",
   "execution_count": 3,
   "id": "b12f0068",
   "metadata": {},
   "outputs": [],
   "source": [
    "mixture_density = np.array([0.74,(0.74+0.79)/2,0.79,0.79])\n",
    "temperatures = np.array([80,70,60,60,25])  # Temperaturas en ºC\n",
    "system = System(alcohol, acid, cat, temperature=25, volume=None)  # Crear el sistema de reacción a 60ºC\n"
   ]
  },
  {
   "cell_type": "code",
   "execution_count": 4,
   "id": "bd82c5bf",
   "metadata": {},
   "outputs": [],
   "source": [
    "#------------------------------------------------------------------------------\n",
    "# Calcular el volumen maximo y minimo por la densidad\n",
    "total_mass = system.total_mass  # Masa total de la mezcla\n",
    "reaction_mass =  system.reaction_mass # Masa de los reactivos sin PTSA·H2O ni solvente\n",
    "volume_max = reaction_mass / mixture_density[0]  # Volumen máximo en ml\n",
    "volume_min = reaction_mass / mixture_density[1]  # Volumen mínimo en ml\n",
    "\n"
   ]
  },
  {
   "cell_type": "code",
   "execution_count": 5,
   "id": "338c005a",
   "metadata": {},
   "outputs": [
    {
     "name": "stdout",
     "output_type": "stream",
     "text": [
      "Sistema de reacción:\n",
      "Alcohol: Butanol (40.03 g, 0.54 moles)\n",
      "Ácido: Ácido octanoico (77.87 g, 0.54 moles)\n",
      "Catálisis: PTSA·H2O (6.51 g, 0.03 moles)\n",
      "Masa total de la mezcla: 124.41 g\n",
      "Masa de los reactivos: 117.90 g\n",
      "Relaciones\n",
      "Relación molar Alcohol/Ácido: 1.00\n",
      "Relación molar Alcohol·Cat: 15.78\n",
      "Relación molar Ácido/Cat: 15.78\n",
      "Fracción molar Alcohol: 0.48\n",
      "Fracción molar Ácido: 0.48\n",
      "Fracción molar Cat: 0.03\n",
      "Fracción másica Alcohol: 0.32\n",
      "Fracción másica Ácido: 0.63\n",
      "Fracción másica Cat: 0.05\n",
      "Fracción molar ácida del Ácido: 0.94\n",
      "Fracción molar ácida del Cat: 0.06\n"
     ]
    }
   ],
   "source": [
    "print(\"Sistema de reacción:\")\n",
    "print(f\"Alcohol: {alcohol.name} ({alcohol.mass:.2f} g, {alcohol.moles:.2f} moles)\")\n",
    "print(f\"Ácido: {acid.name} ({acid.mass:.2f} g, {acid.moles:.2f} moles)\")\n",
    "print(f\"Catálisis: {cat.name} ({cat.mass:.2f} g, {cat.moles:.2f} moles)\")\n",
    "print(f\"Masa total de la mezcla: {total_mass:.2f} g\")\n",
    "print(f\"Masa de los reactivos: {reaction_mass:.2f} g\")\n",
    "print(\"Relaciones\")\n",
    "print(f\"Relación molar Alcohol/Ácido: {alcohol.moles/acid.moles:.2f}\")\n",
    "print(f\"Relación molar Alcohol·Cat: {alcohol.moles/cat.moles:.2f}\")\n",
    "print(f\"Relación molar Ácido/Cat: {acid.moles/cat.moles:.2f}\")\n",
    "print(f\"Fracción molar Alcohol: {system.x_alcohol:.2f}\")\n",
    "print(f\"Fracción molar Ácido: {system.x_acid:.2f}\")\n",
    "print(f\"Fracción molar Cat: {system.x_catalyst:.2f}\")\n",
    "print(f\"Fracción másica Alcohol: {system.w_alcohol:.2f}\")\n",
    "print(f\"Fracción másica Ácido: {system.w_acid:.2f}\")\n",
    "print(f\"Fracción másica Cat: {system.w_catalyst:.2f}\")\n",
    "print(f\"Fracción molar ácida del Ácido: {system.xacid_acid:.2f}\")\n",
    "print(f\"Fracción molar ácida del Cat: {system.xacid_catalyst:.2f}\")"
   ]
  },
  {
   "cell_type": "code",
   "execution_count": 6,
   "id": "22a35770",
   "metadata": {},
   "outputs": [],
   "source": [
    "\n",
    "cat = PTSA·H2O(mass=6.51)  # Masa de PTSA·H2O en gramos (no se usa en este cálculo)\n",
    "water = Compound(name=\"Agua\", mass=100, molar_mass=18.01528)  # Agua como solvente\n",
    "null = Compound(name=\"Nulo\", molar_mass=1) \n",
    "system = System(water, null, cat, temperature=25)  "
   ]
  },
  {
   "cell_type": "code",
   "execution_count": 7,
   "id": "885753cd",
   "metadata": {},
   "outputs": [
    {
     "name": "stdout",
     "output_type": "stream",
     "text": [
      "Masa total del sistema: 106.51 g\n",
      "Moles de agua: 5.5508435061791985\n",
      "Moles de PTSA·H2O: 0.03422353064872253\n",
      "fracción molar de agua: 0.9938723151534167\n",
      "fracción molar de nulo: 0.0\n",
      "fracción másica de agua: 0.9388789784996714\n",
      "fracción másica de nulo: 0.0\n"
     ]
    }
   ],
   "source": [
    "print(\"Masa total del sistema:\", system.total_mass, \"g\")\n",
    "print(\"Moles de agua:\", system.alcohol.moles)\n",
    "print (\"Moles de PTSA·H2O:\", system.catalyst.moles)\n",
    "print(\"fracción molar de agua:\", system.x_alcohol)\n",
    "print(\"fracción molar de nulo:\", system.x_acid)\n",
    "print(\"fracción másica de agua:\", system.w_alcohol)\n",
    "print(\"fracción másica de nulo:\", system.w_acid)\n"
   ]
  },
  {
   "cell_type": "code",
   "execution_count": 8,
   "id": "6138f7b3",
   "metadata": {},
   "outputs": [
    {
     "name": "stdout",
     "output_type": "stream",
     "text": [
      "Volumen de titulación necesario: 0.00 ml para neutralizar una solución de 6.51 g  o 0.03 moles de PTSA·H2O con 0.100 moles/L de NaOH en 50 ml de solución.\n"
     ]
    }
   ],
   "source": [
    "NaOH = 0.1 # moles por litro\n",
    "V = 50 # ml\n",
    "alicuota = 0.1  # ml de la solución de PTSA·H2O\n",
    "ptsa_eq = system.catalyst.moles  # Moles de PTSA·H2O en el sistema\n",
    "Vtit = ptsa_eq / (NaOH * V/ alicuota)\n",
    "\n",
    "print(f\"Volumen de titulación necesario: {Vtit:.2f} ml para neutralizar una solución de {system.catalyst.mass:.2f} g  o {system.catalyst.moles:.2f} moles de PTSA·H2O con {NaOH:.3f} moles/L de NaOH en {V} ml de solución.\")"
   ]
  },
  {
   "cell_type": "code",
   "execution_count": 38,
   "id": "cb10bb05",
   "metadata": {},
   "outputs": [
    {
     "name": "stdout",
     "output_type": "stream",
     "text": [
      "Moles de acido totales: 0.54 moles\n"
     ]
    }
   ],
   "source": [
    "NaOH = 0.1 # moles por litro\n",
    "V = 87 # ml\n",
    "alicuota = 0.1  # ml de la solución de PTSA·H2O\n",
    "Vtit = 6.253 #ml\n",
    "eq = Vtit * (NaOH/1000) * (V/alicuota)\n",
    "\n",
    "\n",
    "print(f\"Moles de acido totales: {eq:.2f} moles\")"
   ]
  }
 ],
 "metadata": {
  "kernelspec": {
   "display_name": "Graphton",
   "language": "python",
   "name": "python3"
  },
  "language_info": {
   "codemirror_mode": {
    "name": "ipython",
    "version": 3
   },
   "file_extension": ".py",
   "mimetype": "text/x-python",
   "name": "python",
   "nbconvert_exporter": "python",
   "pygments_lexer": "ipython3",
   "version": "3.10.12"
  }
 },
 "nbformat": 4,
 "nbformat_minor": 5
}
